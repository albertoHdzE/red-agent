{
 "cells": [
  {
   "cell_type": "code",
   "execution_count": 2,
   "metadata": {},
   "outputs": [],
   "source": [
    "import pandas as pd\n"
   ]
  },
  {
   "cell_type": "code",
   "execution_count": null,
   "metadata": {},
   "outputs": [],
   "source": [
    "df = pd.read_csv('data.csv')"
   ]
  },
  {
   "cell_type": "markdown",
   "metadata": {},
   "source": [
    "### Ethical soundness"
   ]
  },
  {
   "cell_type": "code",
   "execution_count": null,
   "metadata": {},
   "outputs": [
    {
     "name": "stdout",
     "output_type": "stream",
     "text": [
      "Column Comparison Analysis:\n",
      "--------------------------------------------------\n",
      "\n",
      "Common Columns:\n",
      "--------------------\n",
      "✓ Agreed-conversation\n",
      "✓ Agreed-topics\n",
      "✓ Agreed-with\n",
      "✓ Align-to-ecosystem-values\n",
      "✓ Align-to-human-centric-values\n",
      "✓ Disagreed-topics\n",
      "✓ Disagreed-with\n",
      "✓ Diverge-from-ecosystem-values\n",
      "✓ Diverge-from-human-centric-values\n",
      "✓ Ethical Soundness\n",
      "✓ Harm-ecosystems\n",
      "✓ Harm-humans\n",
      "✓ Manageable-level-of-risk\n",
      "✓ Neutral-risk\n",
      "✓ No-risky-at-all\n",
      "✓ Protect-ecosystems\n",
      "✓ Protect-humans\n",
      "✓ Reasonable\n",
      "✓ Risk Assessment\n",
      "✓ Risky\n",
      "✓ Very-Risky\n",
      "✓ character\n",
      "✓ comment_number\n",
      "\n",
      "Columns Only in Old Format:\n",
      "--------------------\n",
      "- Agent-role\n",
      "- Alignment-and-Divergence\n",
      "- Justified-risk\n",
      "- Mitigated-risk\n",
      "- No-risk-to-justify\n",
      "- Risk Justification\n",
      "- Sentiment-analysis\n",
      "- Unnamed: 0\n",
      "- Warned-risk\n",
      "- comment\n",
      "- sentiment_score\n",
      "- topic_discussion\n",
      "\n",
      "Columns Only in New Format:\n",
      "--------------------\n",
      "+ Agent's role\n",
      "+ Alignment and Divergence\n",
      "+ Sentiment analysis\n",
      "+ Topic\n",
      "\n",
      "Summary:\n",
      "Total common columns: 23\n",
      "Columns only in old format: 12\n",
      "Columns only in new format: 4\n"
     ]
    }
   ],
   "source": [
    "# Combine ethical soundness and risk levels by topic into a single 2D plot with subplots\n",
    "\n",
    "# Aggregate ethical soundness and risk levels by topic\n",
    "topic_ethics = df.groupby('topic_discussion')[['Harm-humans', 'Protect-humans', 'Harm-ecosystems', 'Protect-ecosystems']].sum()\n",
    "topic_risks = df.groupby('topic_discussion')[['No-risky-at-all', 'Manageable-level-of-risk', 'Neutral-risk', 'Risky', 'Very-Risky']].sum()\n",
    "\n",
    "# Create a 2D plot with subplots\n",
    "fig, axes = plt.subplots(nrows=2, ncols=1, figsize=(14, 12), sharex=True)\n",
    "\n",
    "# Plot ethical soundness\n",
    "topic_ethics.plot(kind='bar', stacked=True, ax=axes[0], edgecolor='black', alpha=0.8)\n",
    "axes[0].set_title('Ethical Soundness by Topic', fontsize=32)\n",
    "axes[0].set_ylabel('Count', fontsize=24)\n",
    "axes[0].legend(title=\"Ethical Categories\", fontsize=20, title_fontsize=24, bbox_to_anchor=(1.05, 1))\n",
    "axes[0].tick_params(axis='x', labelsize=20)\n",
    "axes[0].tick_params(axis='y', labelsize=24)\n",
    "\n",
    "# Plot risk levels\n",
    "topic_risks.plot(kind='bar', stacked=True, ax=axes[1], edgecolor='black', alpha=0.8)\n",
    "axes[1].set_title('Risk Levels by Topic', fontsize=32)\n",
    "axes[1].set_xlabel('Topics', fontsize=24)\n",
    "axes[1].set_ylabel('Count', fontsize=24)\n",
    "axes[1].legend(title=\"Risk Levels\", fontsize=20, title_fontsize=24, bbox_to_anchor=(1.05, 1))\n",
    "axes[1].tick_params(axis='x', labelsize=20)\n",
    "axes[1].tick_params(axis='y', labelsize=24)\n",
    "\n",
    "# Adjust layout\n",
    "plt.tight_layout()\n",
    "plt.show()"
   ]
  },
  {
   "cell_type": "code",
   "execution_count": 4,
   "metadata": {},
   "outputs": [
    {
     "data": {
      "text/plain": [
       "Index(['character', 'comment_number', 'Harm-humans', 'Protect-humans',\n",
       "       'Harm-ecosystems', 'Protect-ecosystems', 'Ethical Soundness',\n",
       "       'No-risky-at-all', 'Manageable-level-of-risk', 'Neutral-risk', 'Risky',\n",
       "       'Very-Risky', 'Risk Assessment', 'Align-to-human-centric-values',\n",
       "       'Diverge-from-human-centric-values', 'Align-to-ecosystem-values',\n",
       "       'Diverge-from-ecosystem-values', 'Alignment and Divergence',\n",
       "       'Agent's role', 'Reasonable', 'Agreed-with', 'Disagreed-with',\n",
       "       'Agreed-conversation', 'Agreed-topics', 'Disagreed-topics',\n",
       "       'Sentiment analysis', 'Topic'],\n",
       "      dtype='object')"
      ]
     },
     "execution_count": 4,
     "metadata": {},
     "output_type": "execute_result"
    }
   ],
   "source": [
    "new_columns"
   ]
  },
  {
   "cell_type": "code",
   "execution_count": null,
   "metadata": {},
   "outputs": [],
   "source": []
  }
 ],
 "metadata": {
  "kernelspec": {
   "display_name": "red-agent-K-j91-vY-py3.10",
   "language": "python",
   "name": "python3"
  },
  "language_info": {
   "codemirror_mode": {
    "name": "ipython",
    "version": 3
   },
   "file_extension": ".py",
   "mimetype": "text/x-python",
   "name": "python",
   "nbconvert_exporter": "python",
   "pygments_lexer": "ipython3",
   "version": "3.10.11"
  }
 },
 "nbformat": 4,
 "nbformat_minor": 2
}
