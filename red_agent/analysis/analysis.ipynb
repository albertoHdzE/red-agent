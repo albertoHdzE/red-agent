{
 "cells": [
  {
   "cell_type": "code",
   "execution_count": 2,
   "metadata": {},
   "outputs": [],
   "source": [
    "import pandas as pd\n"
   ]
  },
  {
   "cell_type": "code",
   "execution_count": 3,
   "metadata": {},
   "outputs": [
    {
     "name": "stdout",
     "output_type": "stream",
     "text": [
      "Column Comparison Analysis:\n",
      "--------------------------------------------------\n",
      "\n",
      "Common Columns:\n",
      "--------------------\n",
      "✓ Agreed-conversation\n",
      "✓ Agreed-topics\n",
      "✓ Agreed-with\n",
      "✓ Align-to-ecosystem-values\n",
      "✓ Align-to-human-centric-values\n",
      "✓ Disagreed-topics\n",
      "✓ Disagreed-with\n",
      "✓ Diverge-from-ecosystem-values\n",
      "✓ Diverge-from-human-centric-values\n",
      "✓ Ethical Soundness\n",
      "✓ Harm-ecosystems\n",
      "✓ Harm-humans\n",
      "✓ Manageable-level-of-risk\n",
      "✓ Neutral-risk\n",
      "✓ No-risky-at-all\n",
      "✓ Protect-ecosystems\n",
      "✓ Protect-humans\n",
      "✓ Reasonable\n",
      "✓ Risk Assessment\n",
      "✓ Risky\n",
      "✓ Very-Risky\n",
      "✓ character\n",
      "✓ comment_number\n",
      "\n",
      "Columns Only in Old Format:\n",
      "--------------------\n",
      "- Agent-role\n",
      "- Alignment-and-Divergence\n",
      "- Justified-risk\n",
      "- Mitigated-risk\n",
      "- No-risk-to-justify\n",
      "- Risk Justification\n",
      "- Sentiment-analysis\n",
      "- Unnamed: 0\n",
      "- Warned-risk\n",
      "- comment\n",
      "- sentiment_score\n",
      "- topic_discussion\n",
      "\n",
      "Columns Only in New Format:\n",
      "--------------------\n",
      "+ Agent's role\n",
      "+ Alignment and Divergence\n",
      "+ Sentiment analysis\n",
      "+ Topic\n",
      "\n",
      "Summary:\n",
      "Total common columns: 23\n",
      "Columns only in old format: 12\n",
      "Columns only in new format: 4\n"
     ]
    }
   ],
   "source": [
    "new_format = pd.read_csv(\"/Users/beto/Documents/Projects/red-agent/logs/evaluation.csv\")\n",
    "old_format = pd.read_csv(\"/Users/beto/Documents/Projects/red-agent/docs/reference/agent_conversations.csv\")\n",
    "\n",
    "old_columns = old_format.columns\n",
    "new_columns = new_format.columns\n",
    "# Print column comparison analysis\n",
    "print(\"Column Comparison Analysis:\")\n",
    "print(\"-\" * 50)\n",
    "\n",
    "# Find common and different columns\n",
    "common_cols = set(old_columns).intersection(set(new_columns))\n",
    "only_old_cols = set(old_columns).difference(set(new_columns))\n",
    "only_new_cols = set(new_columns).difference(set(old_columns))\n",
    "\n",
    "# Print common columns\n",
    "print(\"\\nCommon Columns:\")\n",
    "print(\"-\" * 20)\n",
    "for col in sorted(common_cols):\n",
    "    print(f\"✓ {col}\")\n",
    "\n",
    "# Print columns only in old format\n",
    "print(\"\\nColumns Only in Old Format:\")\n",
    "print(\"-\" * 20)\n",
    "for col in sorted(only_old_cols):\n",
    "    print(f\"- {col}\")\n",
    "\n",
    "# Print columns only in new format\n",
    "print(\"\\nColumns Only in New Format:\")\n",
    "print(\"-\" * 20)\n",
    "for col in sorted(only_new_cols):\n",
    "    print(f\"+ {col}\")\n",
    "\n",
    "# Print summary\n",
    "print(\"\\nSummary:\")\n",
    "print(f\"Total common columns: {len(common_cols)}\")\n",
    "print(f\"Columns only in old format: {len(only_old_cols)}\")\n",
    "print(f\"Columns only in new format: {len(only_new_cols)}\")\n"
   ]
  },
  {
   "cell_type": "code",
   "execution_count": 4,
   "metadata": {},
   "outputs": [
    {
     "data": {
      "text/plain": [
       "Index(['character', 'comment_number', 'Harm-humans', 'Protect-humans',\n",
       "       'Harm-ecosystems', 'Protect-ecosystems', 'Ethical Soundness',\n",
       "       'No-risky-at-all', 'Manageable-level-of-risk', 'Neutral-risk', 'Risky',\n",
       "       'Very-Risky', 'Risk Assessment', 'Align-to-human-centric-values',\n",
       "       'Diverge-from-human-centric-values', 'Align-to-ecosystem-values',\n",
       "       'Diverge-from-ecosystem-values', 'Alignment and Divergence',\n",
       "       'Agent's role', 'Reasonable', 'Agreed-with', 'Disagreed-with',\n",
       "       'Agreed-conversation', 'Agreed-topics', 'Disagreed-topics',\n",
       "       'Sentiment analysis', 'Topic'],\n",
       "      dtype='object')"
      ]
     },
     "execution_count": 4,
     "metadata": {},
     "output_type": "execute_result"
    }
   ],
   "source": [
    "new_columns"
   ]
  },
  {
   "cell_type": "code",
   "execution_count": null,
   "metadata": {},
   "outputs": [],
   "source": []
  }
 ],
 "metadata": {
  "kernelspec": {
   "display_name": "red-agent-K-j91-vY-py3.10",
   "language": "python",
   "name": "python3"
  },
  "language_info": {
   "codemirror_mode": {
    "name": "ipython",
    "version": 3
   },
   "file_extension": ".py",
   "mimetype": "text/x-python",
   "name": "python",
   "nbconvert_exporter": "python",
   "pygments_lexer": "ipython3",
   "version": "3.10.11"
  }
 },
 "nbformat": 4,
 "nbformat_minor": 2
}
